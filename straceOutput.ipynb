{
 "cells": [
  {
   "cell_type": "code",
   "execution_count": 1,
   "metadata": {},
   "outputs": [],
   "source": [
    "import re\n",
    "import json\n",
    "    \n",
    "class StraceOutput:\n",
    "    regular_expressions=[r\"^([_\\w\\d]+)\\((.+?)\\)\\s+=\\s+(-?[\\d]*)\\s([\\w]*\\s?)\\(?([\\w\\s]*)\\)?$\",\n",
    "                         r\"^([_\\w\\d]+)\\((.+?)\\)\\s+=\\s+(-?[\\d]*)$\",\n",
    "                        r\"^([_\\w\\d]+)\\((.+?)\\)\\s+=\\s+(0x[\\da-f]*)$\",\n",
    "                        r\"^(((?:\\d{2}:{1}){2}[\\d]{2}))\\s([_\\w\\d]+)\\((.+?)\\)\\s+=\\s+(-?[\\d]*)$\",\n",
    "                        r\"^((?:\\d{2}:{1}){2}[\\d]{2})\\s([_\\w\\d]+)\\((.+?)\\)\\s+=\\s+(-?[\\d]*)\\s([\\w]*\\s?)\\(?([\\w\\s]*)\\)?$\",\n",
    "                        r\"^((?:\\d{2}:{1}){2}[\\d]{2})\\s([_\\w\\d]+)\\((.+?)\\)\\s+=\\s+(0x[\\da-f]*)$\",\n",
    "                        r\"^((?:\\d{2}:{1}){2}[\\d]{2})\\s\\[([\\da-f]*)\\]\\s([_\\w\\d]+)\\((.+?)\\)\\s+=\\s+(0x[\\da-f]*)$\",\n",
    "                        r\"^(((?:\\d{2}:{1}){2}[\\d]{2})\\.[\\d]{6})\\s([_\\w\\d]+)\\((.+?)\\)\\s+=\\s+(-?[\\d]*)\\s([\\w]*\\s?)\\(?([\\w\\s]*)\\)?$\",\n",
    "                        r\"^(((?:\\d{2}:{1}){2}[\\d]{2})\\.[\\d]{6})\\s([_\\w\\d]+)\\((.+?)\\)\\s+=\\s+(-?[\\d]*)$\",\n",
    "                        r\"^(((?:\\d{2}:{1}){2}[\\d]{2}))\\s\\[([\\da-f]*)\\]\\s([_\\w\\d]+)\\((.+?)\\)\\s+=\\s+(-?[\\d]*)\\s([\\w]*\\s?)\\(?([\\w\\s]*)\\)?$\",\n",
    "                        r\"^(((?:\\d{2}:{1}){2}[\\d]{2}))\\s\\[([\\da-f]*)\\]\\s([_\\w\\d]+)\\((.+?)\\)\\s+=\\s+(-?[\\d]*)$\",\n",
    "                        r\"^([\\d]+)\\s*\\[([\\da-f]*)\\]\\s([_\\w\\d]+)\\((.+?)\\)\\s+=\\s+(-?[\\d]*)$\",\n",
    "                        r\"^([\\d]+)\\s*\\[([\\da-f]*)\\]\\s([_\\w\\d]+)\\((.+?)\\)\\s+=\\s+(-?[\\d]*)\\s([\\w]*\\s?)\\(?([\\w\\s]*)\\)?$\",\n",
    "                        r\"^([\\d]+)\\s*\\[([\\da-f]*)\\]\\s([_\\w\\d]+)\\((.+?)\\)\\s+=\\s+(0x[\\da-f]*)$\",\n",
    "                        r\"^([\\d]+)\\s*(((?:\\d{2}:{1}){2}[\\d]{2}))\\s\\[([\\da-f]*)\\]\\s([_\\w\\d]+)\\((.+?)\\)\\s+=\\s+(-?[\\d]*)\\s<(0\\.\\d+)>$\",\n",
    "                        r\"^([\\d]+)\\s*(((?:\\d{2}:{1}){2}[\\d]{2}))\\s\\[([\\da-f]*)\\]\\s([_\\w\\d]+)\\((.+?)\\)\\s+=\\s+(-?[\\d]*)\\s([\\w]*\\s?)\\(?([\\w\\s]*)\\)?\\s<(0\\.\\d+)>$\",\n",
    "                        r\"^([\\d]+)\\s*(((?:\\d{2}:{1}){2}[\\d]{2}))\\s\\[([\\da-f]*)\\]\\s([_\\w\\d]+)\\((.+?)\\)\\s+=\\s+(0x[\\da-f]*)\\s<(0\\.\\d+)>$\",\n",
    "                        r\"^([\\d]+)\\s*(((?:\\d{2}:{1}){2}[\\d]{2}))\\s\\[([\\da-f]*)\\]\\s([_\\w\\d]+)\\((.+?)\\)\\s+=\\s+(-?[\\d]*)$\",\n",
    "                        r\"^([\\d]+)\\s*(((?:\\d{2}:{1}){2}[\\d]{2}))\\s\\[([\\da-f]*)\\]\\s([_\\w\\d]+)\\((.+?)\\)\\s+=\\s+(-?[\\d]*)\\s([\\w]*\\s?)\\(?([\\w\\s]*)\\)?\",\n",
    "                        r\"^([\\d]+)\\s*(((?:\\d{2}:{1}){2}[\\d]{2}))\\s\\[([\\da-f]*)\\]\\s([_\\w\\d]+)\\((.+?)\\)\\s+=\\s+(0x[\\da-f]*)\"\n",
    "                        ]\n",
    "    def __init__(self,sys_call,arguments,return_value,process_id=None,any_explain=None,return_macro=None,exec_time=0,sys_clk_time=0,ip=None,reg_match=None):\n",
    "        self.sys_call=sys_call\n",
    "        self.arguments=arguments\n",
    "        self.return_value=return_value\n",
    "        self.any_explain=any_explain\n",
    "        self.exec_time=exec_time\n",
    "        self.return_macro=return_macro\n",
    "        self.sys_clk_time=sys_clk_time\n",
    "        self.ip=ip\n",
    "        self.process_id=process_id\n",
    "        self.reg_match=reg_match\n",
    "\n",
    "        \n",
    "    \n",
    "    @classmethod\n",
    "    def createStrace(cls,data):\n",
    "        straceObj=None\n",
    "        if re.match(cls.regular_expressions[0],data):\n",
    "            match=re.match(cls.regular_expressions[0],data).groups()\n",
    "            straceObj=cls(sys_call=match[0],arguments=match[1],return_value=match[2],return_macro=match[3],any_explain=match[4],reg_match=cls.regular_expressions[0])\n",
    "        elif re.match(cls.regular_expressions[1],data):\n",
    "            match=re.match(cls.regular_expressions[1],data).groups()\n",
    "            straceObj=cls(sys_call=match[0],arguments=match[1],return_value=match[2],reg_match=cls.regular_expressions[1])\n",
    "        elif re.match(cls.regular_expressions[2],data):\n",
    "            match=re.match(cls.regular_expressions[2],data).groups()\n",
    "            straceObj=cls(sys_call=match[0],arguments=match[1],return_value=match[2],reg_match=cls.regular_expressions[2])\n",
    "        elif re.match(cls.regular_expressions[3],data):\n",
    "            match=re.match(cls.regular_expressions[3],data)(match).groups()\n",
    "            straceObj=cls(sys_clk_time=match[0],sys_call=match[1],arguments=match[2],return_value=match[3],reg_match=cls.regular_expressions[3])\n",
    "        elif re.match(cls.regular_expressions[4],data):\n",
    "            match=re.match(cls.regular_expressions[4],data).groups()\n",
    "            straceObj=cls(sys_clk_time=match[0],sys_call=match[1],arguments=match[2],return_value=match[3],return_macro=match[4],any_explain=match[5],reg_match=cls.regular_expressions[4])\n",
    "        elif re.match(cls.regular_expressions[5],data):\n",
    "            match=re.match(cls.regular_expressions[5],data).groups()\n",
    "            straceObj=cls(sys_clk_time=[0],sys_call=match[1],arguments=match[2],return_value=match[3],reg_match=cls.regular_expressions[5])    \n",
    "        elif re.match(cls.regular_expressions[6],data):\n",
    "            match=re.match(cls.regular_expressions[6],data).groups()\n",
    "            straceObj=cls(sys_clk_time=[0],ip=match[1],sys_call=match[2],arguments=match[3],return_value=match[4],reg_match=cls.regular_expressions[6])    \n",
    "        elif re.match(cls.regular_expressions[7],data):\n",
    "            match=re.match(cls.regular_expressions[7],data).groups()\n",
    "            straceObj=cls(sys_clk_time=match[0],sys_call=match[1],arguments=match[2],return_value=match[3],return_macro=match[4],any_explain=match[5],reg_match=cls.regular_expressions[7])\n",
    "        elif re.match(cls.regular_expressions[8],data):\n",
    "            match=re.match(cls.regular_expressions[8],data).groups()\n",
    "            straceObj=cls(sys_clk_time=match[0],sys_call=match[1],arguments=match[2],return_value=match[3],reg_match=cls.regular_expressions[8])\n",
    "        elif re.match(cls.regular_expressions[9],data):\n",
    "            match=re.match(cls.regular_expressions[9],data).groups()\n",
    "            straceObj=cls(sys_clk_time=match[0],ip=match[1],sys_call=match[2],arguments=match[3],return_value=match[4],reg_match=cls.regular_expressions[9])    \n",
    "        elif re.match(cls.regular_expressions[10],data):\n",
    "            match=re.match(cls.regular_expressions[10],data).groups()\n",
    "            straceObj=cls(sys_clk_time=match[0],ip=match[1],sys_call=match[2],arguments=match[3],return_value=match[4],reg_match=cls.regular_expressions[10])\n",
    "        elif re.match(cls.regular_expressions[11],data):\n",
    "            match=re.match(cls.regular_expressions[11],data).groups()\n",
    "            straceObj=cls(process_id=match[0],sys_call=match[2],ip=match[1],arguments=match[3],return_value=match[4],reg_match=cls.regular_expressions[11])\n",
    "        elif re.match(cls.regular_expressions[12],data):\n",
    "            match=re.match(cls.regular_expressions[12],data).groups()\n",
    "            straceObj=cls(process_id=match[0],sys_call=match[2],ip=match[1],arguments=match[3],return_value=match[4],return_macro=match[5],any_explain=match[6],reg_match=cls.regular_expressions[12])\n",
    "        elif re.match(cls.regular_expressions[13],data):\n",
    "            match=re.match(cls.regular_expressions[13],data).groups()\n",
    "            straceObj=cls(process_id=match[0],sys_call=match[2],ip=match[1],arguments=match[3],return_value=match[4],reg_match=cls.regular_expressions[13])\n",
    "        elif re.match(cls.regular_expressions[14],data):\n",
    "            match=re.match(cls.regular_expressions[14],data).groups()\n",
    "            straceObj=cls(process_id=match[0],sys_clk_time=match[1],sys_call=match[3],ip=match[2],arguments=match[4],return_value=match[5],exec_time=match[6],reg_match=cls.regular_expressions[14])\n",
    "        elif re.match(cls.regular_expressions[15],data):\n",
    "            match=re.match(cls.regular_expressions[15],data).groups()\n",
    "            straceObj=cls(process_id=match[0],sys_clk_time=match[1],sys_call=match[3],ip=match[2],arguments=match[4],return_value=match[5],return_macro=match[6],any_explain=match[7],exec_time=match[8],reg_match=cls.regular_expressions[15])\n",
    "        elif re.match(cls.regular_expressions[16],data):\n",
    "            match=re.match(cls.regular_expressions[16],data).groups()\n",
    "            straceObj=cls(process_id=match[0],sys_clk_time=match[1],sys_call=match[3],ip=match[2],arguments=match[4],return_value=match[5],exec_time=match[6],reg_match=cls.regular_expressions[16])\n",
    "        elif re.match(cls.regular_expressions[17],data):\n",
    "            match=re.match(cls.regular_expressions[17],data).groups()\n",
    "            straceObj=cls(process_id=match[0],sys_clk_time=match[1],sys_call=match[3],ip=match[2],arguments=match[4],return_value=match[5],reg_match=cls.regular_expressions[17])\n",
    "        elif re.match(cls.regular_expressions[18],data):\n",
    "            match=re.match(cls.regular_expressions[18],data).groups()\n",
    "            straceObj=cls(process_id=match[0],sys_clk_time=match[1],sys_call=match[3],ip=match[2],arguments=match[4],return_value=match[5],return_macro=match[6],any_explain=match[7],reg_match=cls.regular_expressions[18])\n",
    "        elif re.match(cls.regular_expressions[19],data):\n",
    "            match=re.match(cls.regular_expressions[19],data).groups()\n",
    "            straceObj=cls(process_id=match[0],sys_clk_time=match[1],sys_call=match[3],ip=match[2],arguments=match[4],return_value=match[5],reg_match=cls.regular_expressions[19])\n",
    "\n",
    "        if straceObj:\n",
    "            straceObj.arguments=[arg.strip('\"[] {}[]') for arg in straceObj.arguments.split(\",\") if arg]\n",
    "\n",
    "        return straceObj\n",
    "            \n",
    "    @classmethod\n",
    "    def fromFile(cls,path):\n",
    "        path=open(path,'r')\n",
    "        listOfData=[]\n",
    "        lines=path.read().split(\"\\n\")\n",
    "        print(\"Total System Calls Executed Length: {}\".format(len(lines)))\n",
    "        for line in lines:\n",
    "            obj=StraceOutput.createStrace(line)\n",
    "            if obj is not None:\n",
    "                listOfData.append(obj)\n",
    "        print(\"Total Line Parsed: {}\".format(len(listOfData)))\n",
    "        return listOfData\n",
    "    \n",
    "    def __str__(self):\n",
    "        args_string=\", \".join(self.arguments)\n",
    "        if self.reg_match==StraceOutput.regular_expressions[0]:\n",
    "            return \"{}({}) = {} {} ({})\".format(self.sys_call,args_string,self.return_value,self.return_macro,self.any_explain)\n",
    "        elif self.reg_match==StraceOutput.regular_expressions[1]:\n",
    "            return \"{}({}) = {}\".format(self.sys_call,args_string,self.return_value)\n",
    "        elif self.reg_match==StraceOutput.regular_expressions[2]:\n",
    "            return \"{}({}) = {}\".format(self.sys_call,args_string,self.return_value)\n",
    "        elif self.reg_match==StraceOutput.regular_expressions[3]:\n",
    "            return \"{} {}({}) = {}\".format(self.sys_clk_time,self.sys_call,args_string,self.return_value)\n",
    "        elif self.reg_match==StraceOutput.regular_expressions[4]:\n",
    "            return \"{} {}({}) = {} {} ({})\".format(self.sys_clk_time,self.sys_call,args_string,self.return_value,self.return_macro,self.any_explain)\n",
    "        elif self.reg_match==StraceOutput.regular_expressions[5]:\n",
    "            return \"{} {}({}) = {}\".format(self.sys_clk_time,self.sys_call,args_string,self.return_value)\n",
    "        elif self.reg_match==StraceOutput.regular_expressions[6]:\n",
    "            return \"{} {} {}({}) = {}\".format(self.sys_clk_time,self.ip,self.sys_call,args_string,self.return_value)\n",
    "        elif self.reg_match==StraceOutput.regular_expressions[7]:\n",
    "            return \"{} {}({}) = {} {} ({})\".format(self.sys_clk_time,self.sys_call,args_string,self.return_value,self.return_macro,self.any_explain)\n",
    "        elif self.reg_match==StraceOutput.regular_expressions[8]:\n",
    "            return \"{} {}({}) = {}\".format(self.sys_clk_time,self.sys_call,args_string,self.return_value)\n",
    "        elif self.reg_match==StraceOutput.regular_expressions[9]:\n",
    "            return \"{} [{}] {}({}) = {}\".format(self.sys_clk_time,self.ip,self.sys_call,args_string,self.return_value)\n",
    "        elif self.reg_match==StraceOutput.regular_expressions[10]:\n",
    "            return \"{} [{}] {}({}) = {}\".format(self.sys_clk_time,self.ip,self.sys_call,args_string,self.return_value)\n",
    "        elif self.reg_match==StraceOutput.regular_expressions[11]:\n",
    "            return \"{} [{}] {}({}) = {}\".format(self.process_id,self.ip,self.sys_call,args_string,self.return_value)\n",
    "        elif self.reg_match==StraceOutput.regular_expressions[12]:\n",
    "            return \"{} [{}] {}({}) = {} {} ({})\".format(self.process_id,self.ip,self.sys_call,args_string,self.return_value)\n",
    "        elif self.reg_match==StraceOutput.regular_expressions[13]:\n",
    "            return \"{} [{}] {}({}) = {}\".format(self.process_id,self.ip,self.sys_call,args_string,self.return_value)\n",
    "        elif self.reg_match==StraceOutput.regular_expressions[14]:\n",
    "            return \"{} {} [{}] {}({}) = {} <{}>\".format(self.process_id,self.sys_clk_time,self.ip,self.sys_call,args_string,self.return_value,self.exec_time)\n",
    "        elif self.reg_match==StraceOutput.regular_expressions[15]:\n",
    "            return \"{} {} [{}] {}({}) = {} {} ({}) <{}>\".format(self.process_id,self.ip,self.sys_call,args_string,self.return_value,self.return_macro,self.any_explain,self.exec_time)\n",
    "        elif self.reg_match==StraceOutput.regular_expressions[16]:\n",
    "            return \"{} {} [{}] {}({}) = {} <{}>\".format(self.process_id,self.ip,self.sys_call,args_string,self.return_value,self.exec_time)\n",
    "        elif self.reg_match==StraceOutput.regular_expressions[17]:\n",
    "            return \"{} {} [{}] {}({}) = {} \".format(self.process_id,self.sys_clk_time,self.ip,self.sys_call,args_string,self.return_value)\n",
    "        elif self.reg_match==StraceOutput.regular_expressions[18]:\n",
    "            return \"{} {} [{}] {}({}) = {} {} ({})\".format(self.process_id,self.ip,self.sys_call,args_string,self.return_value,self.return_macro,self.any_explain)\n",
    "        elif self.reg_match==StraceOutput.regular_expressions[19]:\n",
    "            return \"{} {} [{}] {}({}) = {}\".format(self.process_id,self.ip,self.sys_call,args_string,self.return_value)\n",
    "\n",
    "        \n",
    "    def __repr__(self):\n",
    "        args_string=\", \".join(self.arguments)\n",
    "        if self.reg_match==StraceOutput.regular_expressions[0]:\n",
    "            return \"{}({}) = {} {} ({})\".format(self.sys_call,args_string,self.return_value,self.return_macro,self.any_explain)\n",
    "        elif self.reg_match==StraceOutput.regular_expressions[1]:\n",
    "            return \"{}({}) = {}\".format(self.sys_call,args_string,self.return_value)\n",
    "        elif self.reg_match==StraceOutput.regular_expressions[2]:\n",
    "            return \"{}({}) = {}\".format(self.sys_call,args_string,self.return_value)\n",
    "        elif self.reg_match==StraceOutput.regular_expressions[3]:\n",
    "            return \"{} {}({}) = {}\".format(self.sys_clk_time,self.sys_call,args_string,self.return_value)\n",
    "        elif self.reg_match==StraceOutput.regular_expressions[4]:\n",
    "            return \"{} {}({}) = {} {} ({})\".format(self.sys_clk_time,self.sys_call,args_string,self.return_value,self.return_macro,self.any_explain)\n",
    "        elif self.reg_match==StraceOutput.regular_expressions[5]:\n",
    "            return \"{} {}({}) = {}\".format(self.sys_clk_time,self.sys_call,args_string,self.return_value)\n",
    "        elif self.reg_match==StraceOutput.regular_expressions[6]:\n",
    "            return \"{} {} {}({}) = {}\".format(self.sys_clk_time,self.ip,self.sys_call,args_string,self.return_value)\n",
    "        elif self.reg_match==StraceOutput.regular_expressions[7]:\n",
    "            return \"{} {}({}) = {} {} ({})\".format(self.sys_clk_time,self.sys_call,args_string,self.return_value,self.return_macro,self.any_explain)\n",
    "        elif self.reg_match==StraceOutput.regular_expressions[8]:\n",
    "            return \"{} {}({}) = {}\".format(self.sys_clk_time,self.sys_call,args_string,self.return_value)\n",
    "        elif self.reg_match==StraceOutput.regular_expressions[9]:\n",
    "            return \"{} {} {}({}) = {}\".format(self.sys_clk_time,self.ip,self.sys_call,args_string,self.return_value)\n",
    "        elif self.reg_match==StraceOutput.regular_expressions[10]:\n",
    "            return \"{} {} {}({}) = {}\".format(self.sys_clk_time,self.ip,self.sys_call,args_string,self.return_value)\n",
    "        elif self.reg_match==StraceOutput.regular_expressions[11]:\n",
    "            return \"{} [{}] {}({}) = {}\".format(self.process_id,self.ip,self.sys_call,args_string,self.return_value)\n",
    "        elif self.reg_match==StraceOutput.regular_expressions[12]:\n",
    "            return \"{} [{}] {}({}) = {} {} ({})\".format(self.process_id,self.ip,self.sys_call,args_string,self.return_value)\n",
    "        elif self.reg_match==StraceOutput.regular_expressions[13]:\n",
    "            return \"{} [{}] {}({}) = {} {}\".format(self.process_id,self.ip,self.sys_call,args_string,self.return_value)\n",
    "        elif self.reg_match==StraceOutput.regular_expressions[14]:\n",
    "            return \"{} {} [{}] {}({}) = {} <{}>\".format(self.process_id,self.sys_clk_time,self.ip,self.sys_call,args_string,self.return_value,self.exec_time)\n",
    "        elif self.reg_match==StraceOutput.regular_expressions[15]:\n",
    "            return \"{} {} [{}] {}({}) = {} {} ({}) <{}>\".format(self.process_id,self.ip,self.sys_call,args_string,self.return_value,self.return_macro,self.any_explain,self.exec_time)\n",
    "        elif self.reg_match==StraceOutput.regular_expressions[16]:\n",
    "            return \"{} [{}] {}({}) = {} <{}>\".format(self.process_id,self.ip,self.sys_call,args_string,self.return_value,self.exec_time)\n",
    "        elif self.reg_match==StraceOutput.regular_expressions[17]:\n",
    "            return \"{} {} [{}] {}({}) = {}\".format(self.process_id,self.sys_clk_time,self.ip,self.sys_call,args_string,self.return_value)\n",
    "        elif self.reg_match==StraceOutput.regular_expressions[18]:\n",
    "            return \"{} {} [{}] {}({}) = {} {} ({})\".format(self.process_id,self.ip,self.sys_call,args_string,self.return_value,self.return_macro,self.any_explain)\n",
    "        elif self.reg_match==StraceOutput.regular_expressions[19]:\n",
    "            return \"{} {} [{}] {}({}) = {}\".format(self.process_id,self.ip,self.sys_call,args_string,self.return_value)\n",
    "\n",
    "    \n",
    "    @classmethod\n",
    "    def saveJson(cls,data,filename=\"data.json\"):\n",
    "        with open(filename,'w') as f:\n",
    "            json.dump([item.__dict__ for item in data],f)"
   ]
  },
  {
   "cell_type": "code",
   "execution_count": 2,
   "metadata": {},
   "outputs": [
    {
     "data": {
      "text/plain": [
       "20"
      ]
     },
     "execution_count": 2,
     "metadata": {},
     "output_type": "execute_result"
    }
   ],
   "source": [
    "len(StraceOutput.regular_expressions)"
   ]
  },
  {
   "cell_type": "code",
   "execution_count": 3,
   "metadata": {},
   "outputs": [],
   "source": [
    "import pandas as pd"
   ]
  },
  {
   "cell_type": "code",
   "execution_count": 4,
   "metadata": {},
   "outputs": [],
   "source": [
    "pd.set_option('display.max_rows', 10)"
   ]
  },
  {
   "cell_type": "code",
   "execution_count": 5,
   "metadata": {},
   "outputs": [],
   "source": [
    "normal=pd.read_json('normal.json')"
   ]
  },
  {
   "cell_type": "code",
   "execution_count": 6,
   "metadata": {},
   "outputs": [],
   "source": [
    "normal=normal.drop(['reg_match','any_explain','exec_time','return_macro','sys_clk_time','reg_match'],axis=1)"
   ]
  },
  {
   "cell_type": "code",
   "execution_count": 7,
   "metadata": {},
   "outputs": [],
   "source": [
    "normal.to_json('normal_record.json',orient='records')"
   ]
  },
  {
   "cell_type": "code",
   "execution_count": 8,
   "metadata": {},
   "outputs": [],
   "source": [
    "dangerous_sys_call=\"\"\"open chown mount fchown setuid setregid setfsgid create_module link lchown symlink chown setgid setgroups setresuid unlink rename fchmod execve setreuid setfsuid setresgid\"\"\""
   ]
  },
  {
   "cell_type": "code",
   "execution_count": 9,
   "metadata": {},
   "outputs": [],
   "source": [
    "dangerous_sys_call=dangerous_sys_call.split()"
   ]
  },
  {
   "cell_type": "code",
   "execution_count": 10,
   "metadata": {
    "jupyter": {
     "source_hidden": true
    }
   },
   "outputs": [],
   "source": [
    "new_dangerous_call=[{'sys_call':'open','number':2},\n",
    "                    {'sys_call':'chown','number':92},\n",
    "                    {'sys_call':'mount','number':165},\n",
    "                    {'sys_call':'fchown','number':93},\n",
    "                    {'sys_call':'setuid','number':105},\n",
    "                    {'sys_call':'setregid','number':114},\n",
    "                    {'sys_call':'setfsgid','number':123},\n",
    "                    {'sys_call':'create_module','number':174},\n",
    "                    {'sys_call':'link','number':86},\n",
    "                    {'sys_call':'lchown','number':94},\n",
    "                    {'sys_call':'symlink','number':88},\n",
    "                    {'sys_call':'unlink','number':87},\n",
    "                    {'sys_call':'rename','number':82},\n",
    "                    {'sys_call':'setgroups',\"number\":116},\n",
    "                    {'sys_call':'execve',\"number\":59},\n",
    "                    {'sys_call':'chmod',\"number\":90},\n",
    "                    {'sys_call':'fchmod','number':91},\n",
    "                    {'sys_call':'setreuid','number':113},\n",
    "                    {'sys_call':'setfsuid','number':122},\n",
    "                    {'sys_call':'bind','number':49},\n",
    "                    {'sys_call':'connect','number':42},\n",
    "                    {'sys_call':'recvfrom','number':45},\n",
    "                    {'sys_call':'recvmsg','number':47},\n",
    "                    {'sys_call':'recvmmsg','number':299},\n",
    "                    {'sys_call':'sendto','number':44},\n",
    "                    {'sys_call':'sendmsg','number':46},\n",
    "                    {'sys_call':'sendfile','number':40},\n",
    "                    {'sys_call':'chdir','number':80},\n",
    "                    {'sys_call':'dup','number':32},\n",
    "                    {'sys_call':'dup2','number':33}\n",
    "                    \n",
    "                   ]"
   ]
  },
  {
   "cell_type": "code",
   "execution_count": 11,
   "metadata": {},
   "outputs": [],
   "source": [
    "import os\n"
   ]
  },
  {
   "cell_type": "code",
   "execution_count": 12,
   "metadata": {},
   "outputs": [
    {
     "name": "stdout",
     "output_type": "stream",
     "text": [
      "Total System Calls Executed Length: 3023\n",
      "Total Line Parsed: 2980\n",
      "/home/bug/PycharmProjects/strace-json-parser/RawData/FTP_Attack/attack1.strace\n",
      "Total System Calls Executed Length: 3023\n",
      "Total Line Parsed: 2980\n",
      "Total System Calls Executed Length: 32913\n",
      "Total Line Parsed: 32891\n",
      "/home/bug/PycharmProjects/strace-json-parser/RawData/FTP_Attack/normal2.strace\n",
      "Total System Calls Executed Length: 32913\n",
      "Total Line Parsed: 32891\n",
      "Total System Calls Executed Length: 2018\n",
      "Total Line Parsed: 1997\n",
      "/home/bug/PycharmProjects/strace-json-parser/RawData/FTP_Attack/normal10.strace\n",
      "Total System Calls Executed Length: 2018\n",
      "Total Line Parsed: 1997\n",
      "Total System Calls Executed Length: 2250\n",
      "Total Line Parsed: 2228\n",
      "/home/bug/PycharmProjects/strace-json-parser/RawData/FTP_Attack/normal1.strace\n",
      "Total System Calls Executed Length: 2250\n",
      "Total Line Parsed: 2228\n",
      "Total System Calls Executed Length: 2018\n",
      "Total Line Parsed: 1997\n",
      "/home/bug/PycharmProjects/strace-json-parser/RawData/FTP_Attack/normal8.strace\n",
      "Total System Calls Executed Length: 2018\n",
      "Total Line Parsed: 1997\n",
      "Total System Calls Executed Length: 3024\n",
      "Total Line Parsed: 2981\n",
      "/home/bug/PycharmProjects/strace-json-parser/RawData/FTP_Attack/attack2.strace\n",
      "Total System Calls Executed Length: 3024\n",
      "Total Line Parsed: 2981\n",
      "Total System Calls Executed Length: 2237\n",
      "Total Line Parsed: 2205\n",
      "/home/bug/PycharmProjects/strace-json-parser/RawData/FTP_Attack/normal7.strace\n",
      "Total System Calls Executed Length: 2237\n",
      "Total Line Parsed: 2205\n",
      "Total System Calls Executed Length: 334253\n",
      "Total Line Parsed: 334231\n",
      "/home/bug/PycharmProjects/strace-json-parser/RawData/FTP_Attack/normal3.strace\n",
      "Total System Calls Executed Length: 334253\n",
      "Total Line Parsed: 334231\n",
      "Total System Calls Executed Length: 2253\n",
      "Total Line Parsed: 2231\n",
      "/home/bug/PycharmProjects/strace-json-parser/RawData/FTP_Attack/normal4.strace\n",
      "Total System Calls Executed Length: 2253\n",
      "Total Line Parsed: 2231\n",
      "Total System Calls Executed Length: 32909\n",
      "Total Line Parsed: 32887\n",
      "/home/bug/PycharmProjects/strace-json-parser/RawData/FTP_Attack/normal5.strace\n",
      "Total System Calls Executed Length: 32909\n",
      "Total Line Parsed: 32887\n",
      "Total System Calls Executed Length: 334245\n",
      "Total Line Parsed: 334223\n",
      "/home/bug/PycharmProjects/strace-json-parser/RawData/FTP_Attack/normal6.strace\n",
      "Total System Calls Executed Length: 334245\n",
      "Total Line Parsed: 334223\n",
      "Total System Calls Executed Length: 2214\n",
      "Total Line Parsed: 2192\n",
      "/home/bug/PycharmProjects/strace-json-parser/RawData/FTP_Attack/normal9.strace\n",
      "Total System Calls Executed Length: 2214\n",
      "Total Line Parsed: 2192\n",
      "Total System Calls Executed Length: 167208\n",
      "Total Line Parsed: 167203\n",
      "/home/bug/PycharmProjects/strace-json-parser/RawData/Restore/restore_test2_full.strace\n",
      "Total System Calls Executed Length: 167208\n",
      "Total Line Parsed: 167203\n",
      "Total System Calls Executed Length: 68186\n",
      "Total Line Parsed: 68182\n",
      "/home/bug/PycharmProjects/strace-json-parser/RawData/Restore/restore_test2_incr.strace\n",
      "Total System Calls Executed Length: 68186\n",
      "Total Line Parsed: 68182\n",
      "Total System Calls Executed Length: 2257\n",
      "Total Line Parsed: 2252\n",
      "/home/bug/PycharmProjects/strace-json-parser/RawData/Restore/restore_test1_full.strace\n",
      "Total System Calls Executed Length: 2257\n",
      "Total Line Parsed: 2252\n",
      "Total System Calls Executed Length: 4529\n",
      "Total Line Parsed: 4204\n",
      "/home/bug/PycharmProjects/strace-json-parser/RawData/Restore/restore_attack.strace\n",
      "Total System Calls Executed Length: 4529\n",
      "Total Line Parsed: 4204\n",
      "Total System Calls Executed Length: 682\n",
      "Total Line Parsed: 662\n",
      "/home/bug/PycharmProjects/strace-json-parser/RawData/SAMBA/smbmount_badPw.strace\n",
      "Total System Calls Executed Length: 682\n",
      "Total Line Parsed: 662\n",
      "Total System Calls Executed Length: 1171\n",
      "Total Line Parsed: 1111\n",
      "/home/bug/PycharmProjects/strace-json-parser/RawData/SAMBA/smbmount.strace\n",
      "Total System Calls Executed Length: 1171\n",
      "Total Line Parsed: 1111\n",
      "Total System Calls Executed Length: 1300\n",
      "Total Line Parsed: 1224\n",
      "/home/bug/PycharmProjects/strace-json-parser/RawData/SAMBA/smb_dirlist.strace\n",
      "Total System Calls Executed Length: 1300\n",
      "Total Line Parsed: 1224\n",
      "Total System Calls Executed Length: 1617\n",
      "Total Line Parsed: 1534\n",
      "/home/bug/PycharmProjects/strace-json-parser/RawData/SAMBA/smb_case_B.strace\n",
      "Total System Calls Executed Length: 1617\n",
      "Total Line Parsed: 1534\n",
      "Total System Calls Executed Length: 66994\n",
      "Total Line Parsed: 66906\n",
      "/home/bug/PycharmProjects/strace-json-parser/RawData/SAMBA/smb_case_A.strace\n",
      "Total System Calls Executed Length: 66994\n",
      "Total Line Parsed: 66906\n",
      "Total System Calls Executed Length: 5184\n",
      "Total Line Parsed: 3363\n",
      "/home/bug/PycharmProjects/strace-json-parser/RawData/SAMBA/smb_attack.strace\n",
      "Total System Calls Executed Length: 5184\n",
      "Total Line Parsed: 3363\n",
      "Total System Calls Executed Length: 1532\n",
      "Total Line Parsed: 1408\n",
      "/home/bug/PycharmProjects/strace-json-parser/RawData/SAMBA/smb_case_C.strace\n",
      "Total System Calls Executed Length: 1532\n",
      "Total Line Parsed: 1408\n",
      "Total System Calls Executed Length: 315\n",
      "Total Line Parsed: 298\n",
      "/home/bug/PycharmProjects/strace-json-parser/RawData/Traceroute/case7_attack.strace\n",
      "Total System Calls Executed Length: 315\n",
      "Total Line Parsed: 298\n",
      "Total System Calls Executed Length: 383\n",
      "Total Line Parsed: 359\n",
      "/home/bug/PycharmProjects/strace-json-parser/RawData/Traceroute/case6_attack.strace\n",
      "Total System Calls Executed Length: 383\n",
      "Total Line Parsed: 359\n",
      "Total System Calls Executed Length: 143\n",
      "Total Line Parsed: 136\n",
      "/home/bug/PycharmProjects/strace-json-parser/RawData/Traceroute/case5.strace\n",
      "Total System Calls Executed Length: 143\n",
      "Total Line Parsed: 136\n",
      "Total System Calls Executed Length: 25\n",
      "Total Line Parsed: 21\n",
      "/home/bug/PycharmProjects/strace-json-parser/RawData/Traceroute/case4.strace\n",
      "Total System Calls Executed Length: 25\n",
      "Total Line Parsed: 21\n",
      "Total System Calls Executed Length: 737\n",
      "Total Line Parsed: 730\n",
      "/home/bug/PycharmProjects/strace-json-parser/RawData/Traceroute/case1.strace\n",
      "Total System Calls Executed Length: 737\n",
      "Total Line Parsed: 730\n",
      "Total System Calls Executed Length: 154\n",
      "Total Line Parsed: 149\n",
      "/home/bug/PycharmProjects/strace-json-parser/RawData/Traceroute/case3.strace\n",
      "Total System Calls Executed Length: 154\n",
      "Total Line Parsed: 149\n",
      "Total System Calls Executed Length: 261\n",
      "Total Line Parsed: 254\n",
      "/home/bug/PycharmProjects/strace-json-parser/RawData/Traceroute/case2.strace\n",
      "Total System Calls Executed Length: 261\n",
      "Total Line Parsed: 254\n"
     ]
    }
   ],
   "source": [
    "cwd=os.path.abspath('.')\n",
    "strace_dir=[f for f in os.listdir('./RawData/') if os.path.isdir(os.path.join(cwd,'RawData')) and not f.startswith('.')]\n",
    "if not os.path.isdir(os.path.join(cwd,'pruneData')):\n",
    "    os.mkdir(os.path.join(cwd,'pruneData'))\n",
    "for cdir in strace_dir:\n",
    "    if not os.path.isdir(os.path.join(cwd,'pruneData',cdir)):\n",
    "        os.mkdir(os.path.join(cwd,'pruneData',cdir))\n",
    "    strace_ftp_files=[fi for fi in os.listdir(os.path.join(cwd,'RawData',cdir)) if fi.endswith('strace')]\n",
    "    for file in strace_ftp_files:\n",
    "        absPath=os.path.join(cwd,'RawData',cdir,file)\n",
    "        normal=StraceOutput.fromFile(absPath)\n",
    "        print(absPath)\n",
    "        ftpFiles=StraceOutput.fromFile(os.path.join(cwd,'RawData',cdir,file))\n",
    "        StraceOutput.saveJson(ftpFiles,os.path.join(cwd,'pruneData',cdir,file.split('.')[0]+'.json'))\n"
   ]
  },
  {
   "cell_type": "code",
   "execution_count": 13,
   "metadata": {},
   "outputs": [],
   "source": [
    "strace_list=[]\n",
    "strace_output_dir=[f for f in os.listdir('./pruneData/') if os.path.isdir(os.path.join(cwd,'pruneData')) and not f.startswith('.')]\n",
    "for ldir in strace_output_dir:\n",
    "        strace_ftp_files=[fi for fi in os.listdir(os.path.join(cwd,'pruneData',ldir)) if fi.endswith('json')]\n",
    "        for file in strace_ftp_files:\n",
    "            c=os.path.join(cwd,'pruneData',ldir,file)\n",
    "            df=pd.read_json(c,convert_dates=False)\n",
    "            if \"attack\" in file.lower():\n",
    "                df['target']=1\n",
    "            else:\n",
    "                df['target']=0\n",
    "            strace_list.append(df)"
   ]
  },
  {
   "cell_type": "code",
   "execution_count": 14,
   "metadata": {},
   "outputs": [],
   "source": [
    "strace_list=[f.drop(['any_explain','reg_match','return_macro'],axis=1) for f in strace_list]"
   ]
  },
  {
   "cell_type": "code",
   "execution_count": 15,
   "metadata": {},
   "outputs": [
    {
     "data": {
      "text/plain": [
       "Index(['arguments', 'exec_time', 'ip', 'process_id', 'return_value',\n",
       "       'sys_call', 'sys_clk_time', 'target'],\n",
       "      dtype='object')"
      ]
     },
     "execution_count": 15,
     "metadata": {},
     "output_type": "execute_result"
    }
   ],
   "source": [
    "strace_list[1].columns"
   ]
  },
  {
   "cell_type": "code",
   "execution_count": 16,
   "metadata": {},
   "outputs": [],
   "source": [
    "rules_list=[]\n",
    "for prune in strace_list:\n",
    "    rule=None\n",
    "    for call in new_dangerous_call:\n",
    "        if rule is None:\n",
    "            rule=(prune.sys_call==call['sys_call'])\n",
    "        else:\n",
    "            rule=rule | (prune.sys_call==call['sys_call'])\n",
    "    rules_list.append(rule)\n",
    "    "
   ]
  },
  {
   "cell_type": "code",
   "execution_count": 17,
   "metadata": {},
   "outputs": [],
   "source": [
    "strace_list=[f[rules_list[index]] for index,f in enumerate(strace_list)]"
   ]
  },
  {
   "cell_type": "code",
   "execution_count": 18,
   "metadata": {},
   "outputs": [],
   "source": [
    "new_df=None\n",
    "for i in strace_list:\n",
    "    if new_df is None:\n",
    "        new_df=i\n",
    "    else:\n",
    "        new_df=pd.concat([new_df,i],ignore_index=True)"
   ]
  },
  {
   "cell_type": "code",
   "execution_count": 19,
   "metadata": {},
   "outputs": [],
   "source": [
    "final=pd.concat(strace_list,ignore_index=True)"
   ]
  },
  {
   "cell_type": "code",
   "execution_count": 20,
   "metadata": {},
   "outputs": [],
   "source": [
    "final.to_json('final.json',orient='records')"
   ]
  },
  {
   "cell_type": "code",
   "execution_count": 21,
   "metadata": {},
   "outputs": [],
   "source": [
    "for call in new_dangerous_call:\n",
    "    final.loc[final.sys_call==call['sys_call'],'sys_call']=call['number']"
   ]
  },
  {
   "cell_type": "code",
   "execution_count": 22,
   "metadata": {},
   "outputs": [
    {
     "data": {
      "text/plain": [
       "Series([], Name: exec_time, dtype: object)"
      ]
     },
     "execution_count": 22,
     "metadata": {},
     "output_type": "execute_result"
    }
   ],
   "source": [
    "final.exec_time.apply(lambda x: float(x))"
   ]
  },
  {
   "cell_type": "code",
   "execution_count": 23,
   "metadata": {},
   "outputs": [],
   "source": [
    "final=final.drop(['sys_clk_time'],axis=1)"
   ]
  },
  {
   "cell_type": "code",
   "execution_count": 24,
   "metadata": {},
   "outputs": [],
   "source": [
    "final.ip=final.ip.apply(lambda x: int(x,16))"
   ]
  },
  {
   "cell_type": "code",
   "execution_count": 25,
   "metadata": {},
   "outputs": [],
   "source": [
    "final.arguments=final.arguments.apply(lambda x:x[0])"
   ]
  },
  {
   "cell_type": "code",
   "execution_count": 26,
   "metadata": {},
   "outputs": [],
   "source": [
    "final.to_csv('StraceData.csv',index=False)"
   ]
  },
  {
   "cell_type": "code",
   "execution_count": null,
   "metadata": {},
   "outputs": [],
   "source": []
  }
 ],
 "metadata": {
  "kernelspec": {
   "display_name": "Python 3",
   "language": "python",
   "name": "python3"
  },
  "language_info": {
   "codemirror_mode": {
    "name": "ipython",
    "version": 3
   },
   "file_extension": ".py",
   "mimetype": "text/x-python",
   "name": "python",
   "nbconvert_exporter": "python",
   "pygments_lexer": "ipython3",
   "version": "3.7.3"
  }
 },
 "nbformat": 4,
 "nbformat_minor": 4
}
