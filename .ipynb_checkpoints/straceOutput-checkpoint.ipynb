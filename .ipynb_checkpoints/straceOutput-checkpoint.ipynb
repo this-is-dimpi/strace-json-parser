{
 "cells": [
  {
   "cell_type": "code",
   "execution_count": 1,
   "metadata": {},
   "outputs": [],
   "source": [
    "import re\n",
    "import json\n",
    "    \n",
    "class StraceOutput:\n",
    "    regular_expressions=[r\"^([_\\w\\d]+)\\(([\\w\\d\\s\\\"\\=\\[\\]\\,\\/\\.\\-\\|\\}\\{\\*\\<\\>\\`\\\\]*)\\)\\s+=\\s+(-?[\\d]*)\\s([\\w]*\\s?)\\(?([\\w\\s]*)\\)?$\",\n",
    "                         r\"^([_\\w\\d]+)\\(([\\w\\d\\s\\\"\\=\\[\\]\\,\\/\\.\\-\\|\\}\\{\\*\\<\\>\\`\\\\]*)\\)\\s+=\\s+(-?[\\d]*)$\",\n",
    "                        r\"^([_\\w\\d]+)\\(([\\w\\d\\s\\\"\\=\\[\\]\\,\\/\\.\\-\\|\\}\\{\\*\\<\\>\\`\\\\]*)\\)\\s+=\\s+(0x[\\da-f]*)$\",\n",
    "                        r\"^([\\d]{2}:{1}[\\d]{2}:{1}[\\d]{2})\\s([_\\w\\d]+)\\(([\\w\\d\\s\\\"\\=\\[\\]\\,\\/\\.\\-\\|\\}\\{\\*\\<\\>\\`\\\\]*)\\)\\s+=\\s+(-?[\\d]*)$\",\n",
    "                        r\"^([\\d]{2}:{1}[\\d]{2}:{1}[\\d]{2})\\s([_\\w\\d]+)\\(([\\w\\d\\s\\\"\\=\\[\\]\\,\\/\\.\\-\\|\\}\\{\\*\\<\\>\\`\\\\]*)\\)\\s+=\\s+(-?[\\d]*)\\s([\\w]*\\s?)\\(?([\\w\\s]*)\\)?$\",\n",
    "                        r\"^([\\d]{2}:{1}[\\d]{2}:{1}[\\d]{2})\\s([_\\w\\d]+)\\(([\\w\\d\\s\\\"\\=\\[\\]\\,\\/\\.\\-\\|\\}\\{\\*\\<\\>\\`\\\\]*)\\)\\s+=\\s+(0x[\\da-f]*)$\",\n",
    "                        r\"^([\\d]{2}:{1}[\\d]{2}:{1}[\\d]{2})\\s\\[([\\da-f]*)\\]\\s([_\\w\\d]+)\\(([\\w\\d\\s\\\"\\=\\[\\]\\,\\/\\.\\-\\|\\}\\{\\*\\<\\>\\`\\\\]*)\\)\\s+=\\s+(0x[\\da-f]*)$\",\n",
    "                        r\"^([\\d]{2}:{1}[\\d]{2}:{1}[\\d]{2}\\.[\\d]{6})\\s([_\\w\\d]+)\\(([\\w\\d\\s\\\"\\=\\[\\]\\,\\/\\.\\-\\|\\}\\{\\*\\<\\>\\`\\\\]*)\\)\\s+=\\s+(-?[\\d]*)\\s([\\w]*\\s?)\\(?([\\w\\s]*)\\)?$\",\n",
    "                        r\"^([\\d]{2}:{1}[\\d]{2}:{1}[\\d]{2}\\.[\\d]{6})\\s([_\\w\\d]+)\\(([\\w\\d\\s\\\"\\=\\[\\]\\,\\/\\.\\-\\|\\}\\{\\*\\<\\>\\`\\\\]*)\\)\\s+=\\s+(-?[\\d]*)$\",\n",
    "                        r\"^([\\d]{2}:{1}[\\d]{2}:{1}[\\d]{2})\\s\\[([\\da-f]*)\\]\\s([_\\w\\d]+)\\(([\\w\\d\\s\\\"\\=\\[\\]\\,\\/\\.\\-\\|\\}\\{\\*\\<\\>\\`\\\\]*)\\)\\s+=\\s+(-?[\\d]*)\\s([\\w]*\\s?)\\(?([\\w\\s]*)\\)?$\",\n",
    "                        r\"^([\\d]{2}:{1}[\\d]{2}:{1}[\\d]{2})\\s\\[([\\da-f]*)\\]\\s([_\\w\\d]+)\\(([\\w\\d\\s\\\"\\=\\[\\]\\,\\/\\.\\-\\|\\}\\{\\*\\<\\>\\`\\\\]*)\\)\\s+=\\s+(-?[\\d]*)$\",\n",
    "                        r\"^([\\d]{4})\\s*\\[([\\da-f]*)\\]\\s([_\\w\\d]+)\\(([\\w\\d\\s\\\"\\=\\[\\]\\,\\/\\.\\-\\|\\}\\{\\*\\<\\>\\`\\\\]*)\\)\\s+=\\s+(-?[\\d]*)$\",\n",
    "                        r\"^([\\d]{4})\\s*\\[([\\da-f]*)\\]\\s([_\\w\\d]+)\\(([\\w\\d\\s\\\"\\=\\[\\]\\,\\/\\.\\-\\|\\}\\{\\*\\<\\>\\`\\\\]*)\\)\\s+=\\s+(-?[\\d]*)\\s([\\w]*\\s?)\\(?([\\w\\s]*)\\)?$\",\n",
    "                        r\"^([\\d]{4})\\s*\\[([\\da-f]*)\\]\\s([_\\w\\d]+)\\(([\\w\\d\\s\\\"\\=\\[\\]\\,\\/\\.\\-\\|\\}\\{\\*\\<\\>\\`\\\\]*)\\)\\s+=\\s+(0x[\\da-f]*)$\",\n",
    "                        r\"^([\\d]{3,4})\\s*([\\d]{2}:{1}[\\d]{2}:{1}[\\d]{2})\\s\\[([\\da-f]*)\\]\\s([_\\w\\d]+)\\(([\\w\\d\\s\\\"\\=\\[\\]\\,\\/\\.\\-\\|\\}\\{\\*\\<\\>\\`\\\\]*)\\)\\s+=\\s+(-?[\\d]*)\\s<(0\\.\\d+)>$\",\n",
    "                        r\"^([\\d]{3,4})\\s*([\\d]{2}:{1}[\\d]{2}:{1}[\\d]{2})\\s\\[([\\da-f]*)\\]\\s([_\\w\\d]+)\\(([\\w\\d\\s\\\"\\=\\[\\]\\,\\/\\.\\-\\|\\}\\{\\*\\<\\>\\`\\\\]*)\\)\\s+=\\s+(-?[\\d]*)\\s([\\w]*\\s?)\\(?([\\w\\s]*)\\)?\\s<(0\\.\\d+)>$\",\n",
    "                        r\"^([\\d]{3,4})\\s*([\\d]{2}:{1}[\\d]{2}:{1}[\\d]{2})\\s\\[([\\da-f]*)\\]\\s([_\\w\\d]+)\\(([\\w\\d\\s\\\"\\=\\[\\]\\,\\/\\.\\-\\|\\}\\{\\*\\<\\>\\`\\\\]*)\\)\\s+=\\s+(0x[\\da-f]*)\\s<(0\\.\\d+)>$\"\n",
    "\n",
    "                        ]\n",
    "    def __init__(self,sys_call,arguments,return_value,process_id=None,any_explain=None,return_macro=None,exec_time=0,sys_clk_time=0,ip=None,reg_match=None):\n",
    "        self.sys_call=sys_call\n",
    "        self.arguments=arguments\n",
    "        self.return_value=return_value\n",
    "        self.any_explain=any_explain\n",
    "        self.exec_time=exec_time\n",
    "        self.return_macro=return_macro\n",
    "        self.sys_clk_time=sys_clk_time\n",
    "        self.ip=ip\n",
    "        self.process_id=process_id\n",
    "        self.reg_match=reg_match\n",
    "        \n",
    "    \n",
    "    @classmethod\n",
    "    def createStrace(cls,data):\n",
    "        straceObj=None\n",
    "        if re.match(cls.regular_expressions[0],data):\n",
    "            match=re.match(cls.regular_expressions[0],data).groups()\n",
    "            straceObj=cls(sys_call=match[0],arguments=match[1],return_value=match[2],return_macro=match[3],any_explain=match[4],reg_match=cls.regular_expressions[0])\n",
    "        elif re.match(cls.regular_expressions[1],data):\n",
    "            match=re.match(cls.regular_expressions[1],data).groups()\n",
    "            straceObj=cls(sys_call=match[0],arguments=match[1],return_value=match[2],reg_match=cls.regular_expressions[1])\n",
    "        elif re.match(cls.regular_expressions[2],data):\n",
    "            match=re.match(cls.regular_expressions[2],data).groups()\n",
    "            straceObj=cls(sys_call=match[0],arguments=match[1],return_value=match[2],reg_match=cls.regular_expressions[2])\n",
    "        elif re.match(cls.regular_expressions[3],data):\n",
    "            match=re.match(cls.regular_expressions[3],data)(match).groups()\n",
    "            straceObj=cls(sys_clk_time=match[0],sys_call=match[1],arguments=match[2],return_value=match[3],reg_match=cls.regular_expressions[3])\n",
    "        elif re.match(cls.regular_expressions[4],data):\n",
    "            match=re.match(cls.regular_expressions[4],data).groups()\n",
    "            straceObj=cls(sys_clk_time=match[0],sys_call=match[1],arguments=match[2],return_value=match[3],return_macro=match[4],any_explain=match[5],reg_match=cls.regular_expressions[4])\n",
    "        elif re.match(cls.regular_expressions[5],data):\n",
    "            match=re.match(cls.regular_expressions[5],data).groups()\n",
    "            straceObj=cls(sys_clk_time=[0],sys_call=match[1],arguments=match[2],return_value=match[3],reg_match=cls.regular_expressions[5])    \n",
    "        elif re.match(cls.regular_expressions[6],data):\n",
    "            match=re.match(cls.regular_expressions[6],data).groups()\n",
    "            straceObj=cls(sys_clk_time=[0],ip=match[1],sys_call=match[2],arguments=match[3],return_value=match[4],reg_match=cls.regular_expressions[6])    \n",
    "        elif re.match(cls.regular_expressions[7],data):\n",
    "            match=re.match(cls.regular_expressions[7],data).groups()\n",
    "            straceObj=cls(sys_clk_time=match[0],sys_call=match[1],arguments=match[2],return_value=match[3],return_macro=match[4],any_explain=match[5],reg_match=cls.regular_expressions[7])\n",
    "        elif re.match(cls.regular_expressions[8],data):\n",
    "            match=re.match(cls.regular_expressions[8],data).groups()\n",
    "            straceObj=cls(sys_clk_time=match[0],sys_call=match[1],arguments=match[2],return_value=match[3],reg_match=cls.regular_expressions[8])\n",
    "        elif re.match(cls.regular_expressions[9],data):\n",
    "            match=re.match(cls.regular_expressions[9],data).groups()\n",
    "            straceObj=cls(sys_clk_time=match[0],ip=match[1],sys_call=match[2],arguments=match[3],return_value=match[4],reg_match=cls.regular_expressions[9])    \n",
    "        elif re.match(cls.regular_expressions[10],data):\n",
    "            match=re.match(cls.regular_expressions[10],data).groups()\n",
    "            straceObj=cls(sys_clk_time=match[0],ip=match[1],sys_call=match[2],arguments=match[3],return_value=match[4],reg_match=cls.regular_expressions[10])\n",
    "        elif re.match(cls.regular_expressions[11],data):\n",
    "            match=re.match(cls.regular_expressions[11],data).groups()\n",
    "            straceObj=cls(process_id=match[0],sys_call=match[2],ip=match[1],arguments=match[3],return_value=match[4],reg_match=cls.regular_expressions[11])\n",
    "        elif re.match(cls.regular_expressions[12],data):\n",
    "            match=re.match(cls.regular_expressions[12],data).groups()\n",
    "            straceObj=cls(process_id=match[0],sys_call=match[2],ip=match[1],arguments=match[3],return_value=match[4],return_macro=match[5],any_explain=match[6],reg_match=cls.regular_expressions[12])\n",
    "        elif re.match(cls.regular_expressions[13],data):\n",
    "            match=re.match(cls.regular_expressions[13],data).groups()\n",
    "            straceObj=cls(process_id=match[0],sys_call=match[2],ip=match[1],arguments=match[3],return_value=match[4],reg_match=cls.regular_expressions[13])\n",
    "        if straceObj:\n",
    "            straceObj.arguments=[arg.strip('\"[] {}[]') for arg in straceObj.arguments.split(\",\") if arg]\n",
    "\n",
    "        return straceObj\n",
    "            \n",
    "    @classmethod\n",
    "    def fromFile(cls,path):\n",
    "        path=open(path,'r')\n",
    "        listOfData=[]\n",
    "        lines=path.read().split(\"\\n\")\n",
    "        print(\"Total System Calls Executed Length: {}\".format(len(lines)))\n",
    "        for line in lines:\n",
    "            obj=StraceOutput.createStrace(line)\n",
    "            if obj is not None:\n",
    "                listOfData.append(obj)\n",
    "        print(\"Total Line Parsed: {}\".format(len(listOfData)))\n",
    "        return listOfData\n",
    "    \n",
    "    def __str__(self):\n",
    "        args_string=\", \".join(self.arguments)\n",
    "        if self.reg_match==StraceOutput.regular_expressions[0]:\n",
    "            return \"{}({}) = {} {} ({})\".format(self.sys_call,args_string,self.return_value,self.return_macro,self.any_explain)\n",
    "        elif self.reg_match==StraceOutput.regular_expressions[1]:\n",
    "            return \"{}({}) = {}\".format(self.sys_call,args_string,self.return_value)\n",
    "        elif self.reg_match==StraceOutput.regular_expressions[2]:\n",
    "            return \"{}({}) = {}\".format(self.sys_call,args_string,self.return_value)\n",
    "        elif self.reg_match==StraceOutput.regular_expressions[3]:\n",
    "            return \"{} {}({}) = {}\".format(self.sys_clk_time,self.sys_call,args_string,self.return_value)\n",
    "        elif self.reg_match==StraceOutput.regular_expressions[4]:\n",
    "            return \"{} {}({}) = {} {} ({})\".format(self.sys_clk_time,self.sys_call,args_string,self.return_value,self.return_macro,self.any_explain)\n",
    "        elif self.reg_match==StraceOutput.regular_expressions[5]:\n",
    "            return \"{} {}({}) = {}\".format(self.sys_clk_time,self.sys_call,args_string,self.return_value)\n",
    "        elif self.reg_match==StraceOutput.regular_expressions[6]:\n",
    "            return \"{} {} {}({}) = {}\".format(self.sys_clk_time,self.ip,self.sys_call,args_string,self.return_value)\n",
    "        elif self.reg_match==StraceOutput.regular_expressions[7]:\n",
    "            return \"{} {}({}) = {} {} ({})\".format(self.sys_clk_time,self.sys_call,args_string,self.return_value,self.return_macro,self.any_explain)\n",
    "        elif self.reg_match==StraceOutput.regular_expressions[8]:\n",
    "            return \"{} {}({}) = {}\".format(self.sys_clk_time,self.sys_call,args_string,self.return_value)\n",
    "        elif self.reg_match==StraceOutput.regular_expressions[9]:\n",
    "            return \"{} [{}] {}({}) = {}\".format(self.sys_clk_time,self.ip,self.sys_call,args_string,self.return_value)\n",
    "        elif self.reg_match==StraceOutput.regular_expressions[10]:\n",
    "            return \"{} [{}] {}({}) = {}\".format(self.sys_clk_time,self.ip,self.sys_call,args_string,self.return_value)\n",
    "        elif self.reg_match==StraceOutput.regular_expressions[11]:\n",
    "            return \"{} [{}] {}({}) = {}\".format(self.process_id,self.ip,self.sys_call,args_string,self.return_value)\n",
    "        elif self.reg_match==StraceOutput.regular_expressions[12]:\n",
    "            return \"{} [{}] {}({}) = {} {} ({})\".format(self.process_id,self.ip,self.sys_call,args_string,self.return_value)\n",
    "        elif self.reg_match==StraceOutput.regular_expressions[13]:\n",
    "            return \"{} [{}] {}({}) = {} {}\".format(self.process_id,self.ip,self.sys_call,args_string,self.return_value)\n",
    "\n",
    "        \n",
    "    def __repr__(self):\n",
    "        args_string=\", \".join(self.arguments)\n",
    "        if self.reg_match==StraceOutput.regular_expressions[0]:\n",
    "            return \"{}({}) = {} {} ({})\".format(self.sys_call,args_string,self.return_value,self.return_macro,self.any_explain)\n",
    "        elif self.reg_match==StraceOutput.regular_expressions[1]:\n",
    "            return \"{}({}) = {}\".format(self.sys_call,args_string,self.return_value)\n",
    "        elif self.reg_match==StraceOutput.regular_expressions[2]:\n",
    "            return \"{}({}) = {}\".format(self.sys_call,args_string,self.return_value)\n",
    "        elif self.reg_match==StraceOutput.regular_expressions[3]:\n",
    "            return \"{} {}({}) = {}\".format(self.sys_clk_time,self.sys_call,args_string,self.return_value)\n",
    "        elif self.reg_match==StraceOutput.regular_expressions[4]:\n",
    "            return \"{} {}({}) = {} {} ({})\".format(self.sys_clk_time,self.sys_call,args_string,self.return_value,self.return_macro,self.any_explain)\n",
    "        elif self.reg_match==StraceOutput.regular_expressions[5]:\n",
    "            return \"{} {}({}) = {}\".format(self.sys_clk_time,self.sys_call,args_string,self.return_value)\n",
    "        elif self.reg_match==StraceOutput.regular_expressions[6]:\n",
    "            return \"{} {} {}({}) = {}\".format(self.sys_clk_time,self.ip,self.sys_call,args_string,self.return_value)\n",
    "        elif self.reg_match==StraceOutput.regular_expressions[7]:\n",
    "            return \"{} {}({}) = {} {} ({})\".format(self.sys_clk_time,self.sys_call,args_string,self.return_value,self.return_macro,self.any_explain)\n",
    "        elif self.reg_match==StraceOutput.regular_expressions[8]:\n",
    "            return \"{} {}({}) = {}\".format(self.sys_clk_time,self.sys_call,args_string,self.return_value)\n",
    "        elif self.reg_match==StraceOutput.regular_expressions[9]:\n",
    "            return \"{} {} {}({}) = {}\".format(self.sys_clk_time,self.ip,self.sys_call,args_string,self.return_value)\n",
    "        elif self.reg_match==StraceOutput.regular_expressions[10]:\n",
    "            return \"{} {} {}({}) = {}\".format(self.sys_clk_time,self.ip,self.sys_call,args_string,self.return_value)\n",
    "        elif self.reg_match==StraceOutput.regular_expressions[11]:\n",
    "            return \"{} [{}] {}({}) = {}\".format(self.process_id,self.ip,self.sys_call,args_string,self.return_value)\n",
    "        elif self.reg_match==StraceOutput.regular_expressions[12]:\n",
    "            return \"{} [{}] {}({}) = {} {} ({})\".format(self.process_id,self.ip,self.sys_call,args_string,self.return_value)\n",
    "        elif self.reg_match==StraceOutput.regular_expressions[13]:\n",
    "            return \"{} [{}] {}({}) = {} {}\".format(self.process_id,self.ip,self.sys_call,args_string,self.return_value)\n",
    "\n",
    "    @classmethod\n",
    "    def saveJson(cls,data,filename=\"data.json\"):\n",
    "        with open(filename,'w') as f:\n",
    "            json.dump([item.__dict__ for item in data],f)"
   ]
  },
  {
   "cell_type": "code",
   "execution_count": 2,
   "metadata": {},
   "outputs": [
    {
     "name": "stdout",
     "output_type": "stream",
     "text": [
      "Total System Calls Executed Length: 291\n",
      "Total Line Parsed: 242\n"
     ]
    }
   ],
   "source": [
    "dim_normal=StraceOutput.fromFile('normal.txt')\n",
    "StraceOutput.saveJson(dim_normal,'normal.json')"
   ]
  },
  {
   "cell_type": "code",
   "execution_count": 3,
   "metadata": {},
   "outputs": [
    {
     "name": "stdout",
     "output_type": "stream",
     "text": [
      "Total System Calls Executed Length: 357\n",
      "Total Line Parsed: 295\n"
     ]
    }
   ],
   "source": [
    "dim=StraceOutput.fromFile('attack.txt')\n",
    "StraceOutput.saveJson(dim,'attack.json')"
   ]
  },
  {
   "cell_type": "code",
   "execution_count": 4,
   "metadata": {},
   "outputs": [],
   "source": [
    "import pandas as pd"
   ]
  },
  {
   "cell_type": "code",
   "execution_count": 5,
   "metadata": {},
   "outputs": [],
   "source": [
    "pd.set_option('display.max_rows', None)"
   ]
  },
  {
   "cell_type": "code",
   "execution_count": 6,
   "metadata": {},
   "outputs": [],
   "source": [
    "normal=pd.read_json('normal.json')"
   ]
  },
  {
   "cell_type": "code",
   "execution_count": 7,
   "metadata": {},
   "outputs": [],
   "source": [
    "attack=pd.read_json('attack.json')"
   ]
  },
  {
   "cell_type": "code",
   "execution_count": 8,
   "metadata": {},
   "outputs": [],
   "source": [
    "normal=normal.drop(['reg_match','any_explain','exec_time','return_macro','sys_clk_time','reg_match'],axis=1)\n",
    "attack=attack.drop(['reg_match','any_explain','exec_time','return_macro','sys_clk_time','reg_match'],axis=1)"
   ]
  },
  {
   "cell_type": "code",
   "execution_count": 9,
   "metadata": {},
   "outputs": [],
   "source": [
    "normal.to_json('normal_record.json',orient='records')\n",
    "attack.to_json('attack_record.json',orient='records')"
   ]
  },
  {
   "cell_type": "code",
   "execution_count": 10,
   "metadata": {},
   "outputs": [],
   "source": [
    "dangerous_sys_call=\"\"\"open chown mount fchown setuid setregid setfsgid create_module link lchown symlink chown setgid setgroups setresuid unlink rename fchmod execve setreuid setfsuid setresgid\"\"\""
   ]
  },
  {
   "cell_type": "code",
   "execution_count": 11,
   "metadata": {},
   "outputs": [],
   "source": [
    "dangerous_sys_call=dangerous_sys_call.split()"
   ]
  },
  {
   "cell_type": "code",
   "execution_count": 12,
   "metadata": {},
   "outputs": [],
   "source": [
    "normal_pretty=pd.read_json('normal_record_pretty.json')\n",
    "attack_pretty=pd.read_json('attack_record_pretty.json')"
   ]
  },
  {
   "cell_type": "code",
   "execution_count": 13,
   "metadata": {},
   "outputs": [],
   "source": [
    "objData=None\n",
    "with open('sysCalls.json') as f:\n",
    "    objData=json.load(f)"
   ]
  },
  {
   "cell_type": "code",
   "execution_count": 14,
   "metadata": {},
   "outputs": [],
   "source": [
    "new_call=[]\n",
    "for data in objData:\n",
    "    if data['sys_call'] in dangerous_sys_call:\n",
    "        new_call.append(data)\n",
    "        "
   ]
  },
  {
   "cell_type": "code",
   "execution_count": null,
   "metadata": {},
   "outputs": [],
   "source": []
  },
  {
   "cell_type": "code",
   "execution_count": 15,
   "metadata": {},
   "outputs": [],
   "source": [
    "new_dangerous_call=[{'sys_call':'open','number':2},\n",
    "                    {'sys_call':'chown','number':92},\n",
    "                    {'sys_call':'mount','number':165},\n",
    "                    {'sys_call':'fchown','number':93},\n",
    "                    {'sys_call':'setuid','number':105},\n",
    "                    {'sys_call':'setregid','number':114},\n",
    "                    {'sys_call':'setfsgid','number':123},\n",
    "                    {'sys_call':'create_module','number':174},\n",
    "                    {'sys_call':'link','number':86},\n",
    "                    {'sys_call':'lchown','number':94},\n",
    "                    {'sys_call':'symlink','number':88},\n",
    "                    {'sys_call':'unlink','number':87},\n",
    "                    {'sys_call':'rename','number':82},\n",
    "                    {'sys_call':'setgroups',\"number\":116},\n",
    "                    {'sys_call':'execve',\"number\":59},\n",
    "                    {'sys_call':'chmod',\"number\":90},\n",
    "                    {'sys_call':'fchmod','number':91},\n",
    "                    {'sys_call':'setreuid','number':113},\n",
    "                    {'sys_call':'setfsuid','number':122},\n",
    "                    {'sys_call':'bind','number':49},\n",
    "                    {'sys_call':'connect','number':42},\n",
    "                    {'sys_call':'recvfrom','number':45},\n",
    "                    {'sys_call':'recvmsg','number':47},\n",
    "                    {'sys_call':'recvmmsg','number':299},\n",
    "                    {'sys_call':'sendto','number':44},\n",
    "                    {'sys_call':'sendmsg','number':46},\n",
    "                    {'sys_call':'sendfile','number':40},\n",
    "                    {'sys_call':'chdir','number':80},\n",
    "                    {'sys_call':'dup','number':32},\n",
    "                    {'sys_call':'dup2','number':33}\n",
    "                    \n",
    "                   ]"
   ]
  },
  {
   "cell_type": "code",
   "execution_count": 37,
   "metadata": {},
   "outputs": [],
   "source": [
    "rule=None\n",
    "for call in new_dangerous_call:\n",
    "    if rule is None:\n",
    "        rule=normal_pretty.sys_call==call['sys_call']\n",
    "    else:\n",
    "        rule=rule | (normal_pretty.sys_call==call['sys_call'])\n"
   ]
  },
  {
   "cell_type": "code",
   "execution_count": 42,
   "metadata": {},
   "outputs": [],
   "source": [
    "attack_rule=None\n",
    "for call in new_dangerous_call:\n",
    "    if attack_rule is None:\n",
    "        attack_rule=attack_pretty.sys_call==call['sys_call']\n",
    "    else:\n",
    "        attack_rule=attack_rule | (attack_pretty.sys_call==call['sys_call'])\n"
   ]
  },
  {
   "cell_type": "code",
   "execution_count": 38,
   "metadata": {},
   "outputs": [
    {
     "data": {
      "text/html": [
       "<div>\n",
       "<style scoped>\n",
       "    .dataframe tbody tr th:only-of-type {\n",
       "        vertical-align: middle;\n",
       "    }\n",
       "\n",
       "    .dataframe tbody tr th {\n",
       "        vertical-align: top;\n",
       "    }\n",
       "\n",
       "    .dataframe thead th {\n",
       "        text-align: right;\n",
       "    }\n",
       "</style>\n",
       "<table border=\"1\" class=\"dataframe\">\n",
       "  <thead>\n",
       "    <tr style=\"text-align: right;\">\n",
       "      <th></th>\n",
       "      <th>sys_call</th>\n",
       "      <th>arguments</th>\n",
       "      <th>return_value</th>\n",
       "      <th>ip</th>\n",
       "      <th>process_id</th>\n",
       "    </tr>\n",
       "  </thead>\n",
       "  <tbody>\n",
       "    <tr>\n",
       "      <td>168</td>\n",
       "      <td>execve</td>\n",
       "      <td>[/usr/bin/uname, uname, -a, 0x555555575ee8 /* ...</td>\n",
       "      <td>0</td>\n",
       "      <td>00007ffff7ebde87</td>\n",
       "      <td>4757</td>\n",
       "    </tr>\n",
       "  </tbody>\n",
       "</table>\n",
       "</div>"
      ],
      "text/plain": [
       "    sys_call                                          arguments return_value  \\\n",
       "168   execve  [/usr/bin/uname, uname, -a, 0x555555575ee8 /* ...            0   \n",
       "\n",
       "                   ip  process_id  \n",
       "168  00007ffff7ebde87        4757  "
      ]
     },
     "execution_count": 38,
     "metadata": {},
     "output_type": "execute_result"
    }
   ],
   "source": [
    "normal_pretty[rule]"
   ]
  },
  {
   "cell_type": "code",
   "execution_count": 43,
   "metadata": {},
   "outputs": [
    {
     "data": {
      "text/html": [
       "<div>\n",
       "<style scoped>\n",
       "    .dataframe tbody tr th:only-of-type {\n",
       "        vertical-align: middle;\n",
       "    }\n",
       "\n",
       "    .dataframe tbody tr th {\n",
       "        vertical-align: top;\n",
       "    }\n",
       "\n",
       "    .dataframe thead th {\n",
       "        text-align: right;\n",
       "    }\n",
       "</style>\n",
       "<table border=\"1\" class=\"dataframe\">\n",
       "  <thead>\n",
       "    <tr style=\"text-align: right;\">\n",
       "      <th></th>\n",
       "      <th>sys_call</th>\n",
       "      <th>arguments</th>\n",
       "      <th>return_value</th>\n",
       "      <th>ip</th>\n",
       "      <th>process_id</th>\n",
       "    </tr>\n",
       "  </thead>\n",
       "  <tbody>\n",
       "    <tr>\n",
       "      <td>165</td>\n",
       "      <td>execve</td>\n",
       "      <td>[/usr/bin/ls, ls, 0x555555575ee8 /* 56 vars */]</td>\n",
       "      <td>0</td>\n",
       "      <td>00007ffff7ebde87</td>\n",
       "      <td>5317</td>\n",
       "    </tr>\n",
       "  </tbody>\n",
       "</table>\n",
       "</div>"
      ],
      "text/plain": [
       "    sys_call                                        arguments return_value  \\\n",
       "165   execve  [/usr/bin/ls, ls, 0x555555575ee8 /* 56 vars */]            0   \n",
       "\n",
       "                   ip  process_id  \n",
       "165  00007ffff7ebde87        5317  "
      ]
     },
     "execution_count": 43,
     "metadata": {},
     "output_type": "execute_result"
    }
   ],
   "source": [
    "attack_pretty[attack_rule]"
   ]
  },
  {
   "cell_type": "code",
   "execution_count": null,
   "metadata": {},
   "outputs": [],
   "source": []
  }
 ],
 "metadata": {
  "kernelspec": {
   "display_name": "Python 3",
   "language": "python",
   "name": "python3"
  },
  "language_info": {
   "codemirror_mode": {
    "name": "ipython",
    "version": 3
   },
   "file_extension": ".py",
   "mimetype": "text/x-python",
   "name": "python",
   "nbconvert_exporter": "python",
   "pygments_lexer": "ipython3",
   "version": "3.7.5"
  }
 },
 "nbformat": 4,
 "nbformat_minor": 4
}
